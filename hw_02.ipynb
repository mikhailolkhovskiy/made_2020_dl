{
 "cells": [
  {
   "cell_type": "code",
   "execution_count": 2,
   "metadata": {},
   "outputs": [],
   "source": [
    "import gym\n",
    "\n",
    "import matplotlib as mpl\n",
    "import matplotlib.pyplot as plt\n",
    "import seaborn as sns\n",
    "import json\n",
    "import math\n",
    "import random\n",
    "import numpy as np\n",
    "import scipy as sp\n",
    "import scipy.stats as st\n",
    "import scipy.integrate as integrate\n",
    "from scipy.stats import multivariate_normal\n",
    "from sklearn import linear_model\n",
    "from sklearn.utils.testing import ignore_warnings\n",
    "from sklearn.exceptions import ConvergenceWarning\n",
    "import statsmodels.api as sm\n",
    "from matplotlib.colors import LogNorm\n",
    "import pickle\n",
    "\n",
    "from joblib import Parallel, delayed\n",
    "import multiprocessing\n",
    "from collections import namedtuple\n",
    "from itertools import count\n",
    "import tqdm\n",
    "\n",
    "import cProfile\n",
    "from datetime import datetime\n",
    "\n",
    "import torch\n",
    "import torch.nn as nn\n",
    "import torch.optim as optim\n",
    "import torch.nn.functional as F\n",
    "import torchvision.transforms as T\n",
    "from torch.autograd import Variable\n",
    "\n",
    "sns.set_style(\"whitegrid\")\n",
    "sns.set_palette(\"colorblind\")\n",
    "palette = sns.color_palette()\n",
    "# figsize = (15,8)\n",
    "# legend_fontsize = 16\n",
    "\n",
    "from matplotlib import rc\n",
    "rc('font',**{'family':'sans-serif'})\n",
    "rc('text', usetex=False)\n",
    "rc('text.latex',preamble=r'\\usepackage[utf8]{inputenc}')\n",
    "rc('text.latex',preamble=r'\\usepackage[russian]{babel}')\n",
    "rc('figure', **{'dpi': 300})"
   ]
  },
  {
   "cell_type": "code",
   "execution_count": 3,
   "metadata": {},
   "outputs": [],
   "source": [
    "N_ROWS, N_COLS, N_WIN = 3, 3, 3"
   ]
  },
  {
   "cell_type": "code",
   "execution_count": 4,
   "metadata": {},
   "outputs": [],
   "source": [
    "class TicTacToe(gym.Env):\n",
    "    def __init__(self, n_rows=N_ROWS, n_cols=N_COLS, n_win=N_WIN):\n",
    "        self.n_rows = n_rows\n",
    "        self.n_cols = n_cols\n",
    "        self.n_win = n_win\n",
    "\n",
    "        self.board = np.zeros((self.n_rows, self.n_cols), dtype=int)\n",
    "        self.gameOver = False\n",
    "        self.boardHash = None\n",
    "        # ход первого игрока\n",
    "        self.curTurn = 1\n",
    "        self.emptySpaces = None\n",
    "        \n",
    "        self.reset()\n",
    "\n",
    "    def getEmptySpaces(self):\n",
    "        if self.emptySpaces is None:\n",
    "            res = np.where(self.board == 0)\n",
    "            self.emptySpaces = np.array([ (i, j) for i,j in zip(res[0], res[1]) ])\n",
    "        return self.emptySpaces\n",
    "\n",
    "    def makeMove(self, player, i, j):\n",
    "        self.board[i, j] = player\n",
    "        self.emptySpaces = None\n",
    "        self.boardHash = None\n",
    "\n",
    "    def getHash(self):\n",
    "        if self.boardHash is None:\n",
    "            self.boardHash = ''.join(['%s' % (x+1) for x in self.board.reshape(self.n_rows * self.n_cols)])\n",
    "        return self.boardHash\n",
    "    \n",
    "    def getBoardAsArray(self):\n",
    "        return self.board.reshape(self.n_rows * self.n_cols) + 1\n",
    "\n",
    "    def isTerminal(self):\n",
    "        # проверим, не закончилась ли игра\n",
    "        cur_marks, cur_p = np.where(self.board == self.curTurn), self.curTurn\n",
    "        for i,j in zip(cur_marks[0], cur_marks[1]):\n",
    "#             print((i,j))\n",
    "            win = False\n",
    "            if i <= self.n_rows - self.n_win:\n",
    "                if np.all(self.board[i:i+self.n_win, j] == cur_p):\n",
    "                    win = True\n",
    "            if not win:\n",
    "                if j <= self.n_cols - self.n_win:\n",
    "                    if np.all(self.board[i,j:j+self.n_win] == cur_p):\n",
    "                        win = True\n",
    "            if not win:\n",
    "                if i <= self.n_rows - self.n_win and j <= self.n_cols - self.n_win:\n",
    "                    if np.all(np.array([ self.board[i+k,j+k] == cur_p for k in range(self.n_win) ])):\n",
    "                        win = True\n",
    "            if not win:\n",
    "                if i <= self.n_rows - self.n_win and j >= self.n_win-1:\n",
    "                    if np.all(np.array([ self.board[i+k,j-k] == cur_p for k in range(self.n_win) ])):\n",
    "                        win = True\n",
    "            if win:\n",
    "                self.gameOver = True\n",
    "                return self.curTurn\n",
    "\n",
    "        if len(self.getEmptySpaces()) == 0:\n",
    "            self.gameOver = True\n",
    "            return 0\n",
    "\n",
    "        self.gameOver = False\n",
    "        return None\n",
    "\n",
    "    def printBoard(self):\n",
    "        for i in range(0, self.n_rows):\n",
    "            print('----'*(self.n_cols)+'-')\n",
    "            out = '| '\n",
    "            for j in range(0, self.n_cols):\n",
    "                if self.board[i, j] == 1:\n",
    "                    token = 'x'\n",
    "                if self.board[i, j] == -1:\n",
    "                    token = 'o'\n",
    "                if self.board[i, j] == 0:\n",
    "                    token = ' '\n",
    "                out += token + ' | '\n",
    "            print(out)\n",
    "        print('----'*(self.n_cols)+'-')\n",
    "\n",
    "    def getState(self):\n",
    "        return (self.getHash(), self.getEmptySpaces(), self.curTurn)\n",
    "\n",
    "    def action_from_int(self, action_int):\n",
    "        return ( int(action_int / self.n_cols), int(action_int % self.n_cols))\n",
    "\n",
    "    def int_from_action(self, action):\n",
    "        return action[0] * self.n_cols + action[1]\n",
    "    \n",
    "    def step(self, action):\n",
    "        if self.board[action[0], action[1]] != 0:\n",
    "            return self.getState(), -10, True, {}\n",
    "        self.makeMove(self.curTurn, action[0], action[1])\n",
    "        reward = self.isTerminal()\n",
    "        self.curTurn = -self.curTurn\n",
    "        return self.getState(), 0 if reward is None else reward, reward is not None, {}\n",
    "\n",
    "    def reset(self):\n",
    "        self.board = np.zeros((self.n_rows, self.n_cols), dtype=int)\n",
    "        self.boardHash = None\n",
    "        self.gameOver = False\n",
    "        self.emptySpaces = None\n",
    "        self.curTurn = 1"
   ]
  },
  {
   "cell_type": "markdown",
   "metadata": {},
   "source": [
    "# Часть 1"
   ]
  },
  {
   "cell_type": "code",
   "execution_count": 5,
   "metadata": {},
   "outputs": [],
   "source": [
    "def plot_board(env, pi, showtext=True, verbose=True, fontq=20, fontx=60):\n",
    "    '''Рисуем доску с оценками из стратегии pi'''\n",
    "    fig, ax = plt.subplots(1, 1, figsize=(4, 4))\n",
    "    X, Y = np.meshgrid(np.arange(0, env.n_rows), np.arange(0, env.n_rows))\n",
    "    Z = np.zeros((env.n_rows, env.n_cols)) + .01\n",
    "    s, actions = env.getHash(), env.getEmptySpaces()\n",
    "    if pi is not None and pi.Q_actions(s) is not None:\n",
    "        for i, a in enumerate(actions):\n",
    "            Z[a[0], a[1]] = pi.Q_actions(s)[i]\n",
    "    ax.set_xticks([])\n",
    "    ax.set_yticks([])\n",
    "    surf = ax.imshow(Z, cmap=plt.get_cmap('Accent', 10), vmin=-1, vmax=1)\n",
    "    if showtext:\n",
    "        for i,a in enumerate(actions):\n",
    "            if pi is not None and pi.Q_actions(s) is not None:\n",
    "                ax.text( a[1] , a[0] , \"%.3f\" % pi.Q_actions(s)[i], fontsize=fontq, horizontalalignment='center', verticalalignment='center', color=\"w\" )\n",
    "#             else:\n",
    "#                 ax.text( a[1] , a[0] , \"???\", fontsize=fontq, horizontalalignment='center', verticalalignment='center', color=\"w\" )\n",
    "    for i in range(env.n_rows):\n",
    "        for j in range(env.n_cols):\n",
    "            if env.board[i, j] == -1:\n",
    "                ax.text(j, i, \"O\", fontsize=fontx, horizontalalignment='center', verticalalignment='center', color=\"w\" )\n",
    "            if env.board[i, j] == 1:\n",
    "                ax.text(j, i, \"X\", fontsize=fontx, horizontalalignment='center', verticalalignment='center', color=\"w\" )\n",
    "    cbar = plt.colorbar(surf, ticks=[0, 1])\n",
    "    ax.grid(False)\n",
    "    plt.show()\n",
    "\n",
    "def get_and_print_move(env, pi, s, actions, random=False, verbose=True, fontq=20, fontx=60):\n",
    "    '''Делаем ход, рисуем доску'''\n",
    "    plot_board(env, pi, fontq=fontq, fontx=fontx)\n",
    "    if verbose and (pi is not None):\n",
    "        if pi.Q_actions(s) is not None:\n",
    "            for i,a in enumerate(actions):\n",
    "                print(i, a, pi.Q_actions(s)[i])\n",
    "        else:\n",
    "            print(\"Стратегия не знает, что делать...\")\n",
    "    if random:\n",
    "        return np.random.randint(len(actions))\n",
    "    else:\n",
    "        return pi.get_action(s, actions)"
   ]
  },
  {
   "cell_type": "code",
   "execution_count": 6,
   "metadata": {},
   "outputs": [],
   "source": [
    "def plot_test_game(env, pi1, pi2, random_crosses=False, random_naughts=True, verbose=True, fontq=20, fontx=60):\n",
    "    '''Играем тестовую партию между стратегиями или со случайными ходами, рисуем ход игры'''\n",
    "    done = False\n",
    "    env.reset()\n",
    "    while not done:\n",
    "        s, actions = env.getHash(), env.getEmptySpaces()\n",
    "        if env.curTurn == 1:\n",
    "            a = get_and_print_move(env, pi1, s, actions, random=random_crosses, verbose=verbose, fontq=fontq, fontx=fontx)\n",
    "        else:\n",
    "            a = get_and_print_move(env, pi2, s, actions, random=random_naughts, verbose=verbose, fontq=fontq, fontx=fontx)\n",
    "        print(a)\n",
    "        observation, reward, done, info = env.step(actions[a])\n",
    "        if reward == 1:\n",
    "            print(\"Крестики выиграли!\")\n",
    "            plot_board(env, None, showtext=False, fontq=fontq, fontx=fontx)\n",
    "        if reward == -1:\n",
    "            print(\"Нолики выиграли!\")\n",
    "            plot_board(env, None, showtext=False, fontq=fontq, fontx=fontx)"
   ]
  },
  {
   "cell_type": "code",
   "execution_count": 7,
   "metadata": {},
   "outputs": [],
   "source": [
    "class RandomPlayer:\n",
    "    \n",
    "    def get_action(self, state, actions, explore=False):\n",
    "        action_idx = random.randint(0, len(actions) - 1)\n",
    "        return action_idx\n",
    "    \n",
    "    def learn_episode(self, steps, reward):\n",
    "        pass"
   ]
  },
  {
   "cell_type": "code",
   "execution_count": 8,
   "metadata": {},
   "outputs": [],
   "source": [
    "class QPlayer:\n",
    "    def __init__(self, alpha=0.05, epsilon=0.1, gamma=0.9):\n",
    "        self.Q = {}\n",
    "        self.epsilon = epsilon\n",
    "        self.alpha = alpha\n",
    "        self.gamma = gamma\n",
    "        \n",
    "    def Q_actions(self, state):    \n",
    "        if state not in self.Q:\n",
    "            return None\n",
    "        return self.Q[state]\n",
    "        \n",
    "    def _Q_actions(self, state, n_actions):\n",
    "        if state not in self.Q:\n",
    "            self.Q[state] = np.random.random(size=n_actions)\n",
    "        return self.Q[state]\n",
    "    \n",
    "    def get_action(self, state, actions, explore=False):\n",
    "        action_idx = np.argmax(self._Q_actions(state, len(actions)))\n",
    "        if explore and np.random.rand() < self.epsilon:\n",
    "            action_idx = random.randint(0, len(actions) - 1)\n",
    "        return action_idx\n",
    "    \n",
    "    def learn_episode(self, steps, reward):\n",
    "        next_step_max = 0\n",
    "        for state, action_idx in steps[::-1]:\n",
    "            reward = self.Q[state][action_idx] + self.alpha * (reward + self.gamma * next_step_max \n",
    "                                                               - self.Q[state][action_idx])\n",
    "            self.Q[state][action_idx] = reward\n",
    "            next_step_max = np.max(self.Q[state])"
   ]
  },
  {
   "cell_type": "code",
   "execution_count": 9,
   "metadata": {},
   "outputs": [],
   "source": [
    "class DQPlayer:\n",
    "    def __init__(self, alpha=0.05, epsilon=0.1, gamma=0.9):\n",
    "        self.Q1 = {}\n",
    "        self.Q2 = {}\n",
    "        self.epsilon = epsilon\n",
    "        self.alpha = alpha\n",
    "        self.gamma = gamma\n",
    "        \n",
    "    def Q_actions(self, state):    \n",
    "        if state not in self.Q1:\n",
    "            return None\n",
    "        return self.Q1[state] + self.Q2[state]\n",
    "        \n",
    "    def _Q_actions(self, state, n_actions):\n",
    "        if state not in self.Q1:\n",
    "            self.Q1[state] = np.random.random(size=n_actions)        \n",
    "            self.Q2[state] = np.random.random(size=n_actions)\n",
    "        return self.Q1[state] + self.Q2[state]\n",
    "    \n",
    "    def get_action(self, state, actions, explore=False):\n",
    "        action_idx = np.argmax(self._Q_actions(state, len(actions)))\n",
    "        if explore and np.random.rand() < self.epsilon:\n",
    "            action_idx = random.randint(0, len(actions) - 1)\n",
    "        return action_idx\n",
    "    \n",
    "    def learn_episode(self, steps, reward):\n",
    "        next_step_max = 0\n",
    "        if np.random.rand() < 0.5:\n",
    "            q1, q2 = self.Q1, self.Q2\n",
    "        else:\n",
    "            q1, q2 = self.Q2, self.Q1\n",
    "        for state, action_idx in steps[::-1]:\n",
    "            reward = q1[state][action_idx] + self.alpha * (reward + self.gamma * next_step_max \n",
    "                                                               - q1[state][action_idx])\n",
    "            q1[state][action_idx] = reward\n",
    "            next_step_max = np.max(q2[state])"
   ]
  },
  {
   "cell_type": "code",
   "execution_count": 10,
   "metadata": {},
   "outputs": [],
   "source": [
    "def generate_learning_episode(env, player1, player2):\n",
    "    done = False\n",
    "    env.reset()\n",
    "    steps1 = []\n",
    "    steps2 = []\n",
    "    while not done:\n",
    "        s, actions = env.getHash(), env.getEmptySpaces()\n",
    "        if env.curTurn == 1:\n",
    "            action_idx = player1.get_action(s, actions, explore=True)\n",
    "            steps1.append((s, action_idx))\n",
    "        else:\n",
    "            action_idx = player2.get_action(s, actions, explore=True)\n",
    "            steps2.append((s, action_idx))\n",
    "        _, reward, done, _ = env.step(actions[action_idx])\n",
    "    return (steps1, reward), (steps2, -reward)"
   ]
  },
  {
   "cell_type": "code",
   "execution_count": 11,
   "metadata": {},
   "outputs": [],
   "source": [
    "def learn(total_episodes, player1, player2, env):    \n",
    "    avg_reward_history1 = []\n",
    "    rewards_sum1 = 0\n",
    "    avg_reward_history2 = []\n",
    "    rewards_sum2 = 0\n",
    "    for n in tqdm.tqdm(range(total_episodes)):\n",
    "        info1, info2 = generate_learning_episode(env, player1, player2)\n",
    "        player1.learn_episode(info1[0], info1[1])\n",
    "        player2.learn_episode(info2[0], info2[1])\n",
    "        rewards_sum1 += info1[1]\n",
    "        avg_reward_history1.append(rewards_sum1/(n + 1))\n",
    "        rewards_sum2 += info2[1]\n",
    "        avg_reward_history2.append(rewards_sum2/(n + 1))\n",
    "    return avg_reward_history1, avg_reward_history2"
   ]
  },
  {
   "cell_type": "markdown",
   "metadata": {},
   "source": [
    "### 3х3 крестики"
   ]
  },
  {
   "cell_type": "code",
   "execution_count": 16,
   "metadata": {},
   "outputs": [
    {
     "name": "stderr",
     "output_type": "stream",
     "text": [
      "100%|██████████████████████████████████████████████████████████████████████████| 20000/20000 [00:06<00:00, 3287.17it/s]\n"
     ]
    }
   ],
   "source": [
    "player1 = QPlayer(alpha=0.5, epsilon=0.0, gamma=0.7)\n",
    "player2 = RandomPlayer()\n",
    "env = TicTacToe(n_rows=3, n_cols=3, n_win=3)\n",
    "avg_reward_history1, avg_reward_history2 = learn(20000, player1, player2, env) "
   ]
  },
  {
   "cell_type": "code",
   "execution_count": 17,
   "metadata": {},
   "outputs": [
    {
     "data": {
      "text/plain": [
       "[<matplotlib.lines.Line2D at 0x17f4fcab978>]"
      ]
     },
     "execution_count": 17,
     "metadata": {},
     "output_type": "execute_result"
    },
    {
     "data": {
      "image/png": "[encoded data removed]",
      "text/plain": [
       "<Figure size 720x216 with 1 Axes>"
      ]
     },
     "metadata": {
      "needs_background": "light"
     },
     "output_type": "display_data"
    }
   ],
   "source": [
    "fig, ax = plt.subplots(1, 1, figsize=(10, 3))\n",
    "ax.plot(avg_reward_history1[10:])\n",
    "ax.plot(avg_reward_history2[10:])"
   ]
  },
  {
   "cell_type": "code",
   "execution_count": 18,
   "metadata": {},
   "outputs": [
    {
     "data": {
      "image/png": "[encoded data removed]",
      "text/plain": [
       "<Figure size 288x288 with 2 Axes>"
      ]
     },
     "metadata": {
      "needs_background": "light"
     },
     "output_type": "display_data"
    },
    {
     "name": "stdout",
     "output_type": "stream",
     "text": [
      "0 [0 0] 0.5525299907459512\n",
      "1 [0 1] 0.5713150096137157\n",
      "2 [0 2] 0.780048390509249\n",
      "3 [1 0] 0.5177493358537654\n",
      "4 [1 1] 0.0791931014776378\n",
      "5 [1 2] 0.2561178700878829\n",
      "6 [2 0] 4.324237055837152\n",
      "7 [2 1] 0.10764072628247723\n",
      "8 [2 2] 0.2231503729967711\n",
      "6\n"
     ]
    },
    {
     "data": {
      "image/png": "[encoded data removed]",
      "text/plain": [
       "<Figure size 288x288 with 2 Axes>"
      ]
     },
     "metadata": {
      "needs_background": "light"
     },
     "output_type": "display_data"
    },
    {
     "name": "stdout",
     "output_type": "stream",
     "text": [
      "0\n"
     ]
    },
    {
     "data": {
      "image/png": "[encoded data removed]",
      "text/plain": [
       "<Figure size 288x288 with 2 Axes>"
      ]
     },
     "metadata": {
      "needs_background": "light"
     },
     "output_type": "display_data"
    },
    {
     "name": "stdout",
     "output_type": "stream",
     "text": [
      "0 [0 1] 0.3251935332005711\n",
      "1 [0 2] 0.14045808840241347\n",
      "2 [1 0] 0.3751782179916665\n",
      "3 [1 1] 0.7981100677484557\n",
      "4 [1 2] 3.9949348936531317\n",
      "5 [2 1] 0.24966478495322286\n",
      "6 [2 2] 0.833832303679217\n",
      "4\n"
     ]
    },
    {
     "data": {
      "image/png": "[encoded data removed]",
      "text/plain": [
       "<Figure size 288x288 with 2 Axes>"
      ]
     },
     "metadata": {
      "needs_background": "light"
     },
     "output_type": "display_data"
    },
    {
     "name": "stdout",
     "output_type": "stream",
     "text": [
      "5\n"
     ]
    },
    {
     "data": {
      "image/png": "[encoded data removed]",
      "text/plain": [
       "<Figure size 288x288 with 2 Axes>"
      ]
     },
     "metadata": {
      "needs_background": "light"
     },
     "output_type": "display_data"
    },
    {
     "name": "stdout",
     "output_type": "stream",
     "text": [
      "0 [0 1] 0.029746552377494906\n",
      "1 [0 2] 0.6550775350518337\n",
      "2 [1 0] 0.20823722814697032\n",
      "3 [1 1] 2.2037101130301457\n",
      "4 [2 1] 0.3795217744927043\n",
      "3\n"
     ]
    },
    {
     "data": {
      "image/png": "[encoded data removed]",
      "text/plain": [
       "<Figure size 288x288 with 2 Axes>"
      ]
     },
     "metadata": {
      "needs_background": "light"
     },
     "output_type": "display_data"
    },
    {
     "name": "stdout",
     "output_type": "stream",
     "text": [
      "2\n"
     ]
    },
    {
     "data": {
      "image/png": "[encoded data removed]",
      "text/plain": [
       "<Figure size 288x288 with 2 Axes>"
      ]
     },
     "metadata": {
      "needs_background": "light"
     },
     "output_type": "display_data"
    },
    {
     "name": "stdout",
     "output_type": "stream",
     "text": [
      "0 [0 1] 0.16431296912496662\n",
      "1 [0 2] 0.2698575035415355\n",
      "2 [2 1] 1.6999999999999993\n",
      "2\n"
     ]
    },
    {
     "data": {
      "image/png": "[encoded data removed]",
      "text/plain": [
       "<Figure size 288x288 with 2 Axes>"
      ]
     },
     "metadata": {
      "needs_background": "light"
     },
     "output_type": "display_data"
    },
    {
     "name": "stdout",
     "output_type": "stream",
     "text": [
      "0\n"
     ]
    },
    {
     "data": {
      "image/png": "[encoded data removed]",
      "text/plain": [
       "<Figure size 288x288 with 2 Axes>"
      ]
     },
     "metadata": {
      "needs_background": "light"
     },
     "output_type": "display_data"
    },
    {
     "name": "stdout",
     "output_type": "stream",
     "text": [
      "0 [0 2] 1.0\n",
      "0\n",
      "Крестики выиграли!\n"
     ]
    },
    {
     "data": {
      "image/png": "[encoded data removed]",
      "text/plain": [
       "<Figure size 288x288 with 2 Axes>"
      ]
     },
     "metadata": {
      "needs_background": "light"
     },
     "output_type": "display_data"
    }
   ],
   "source": [
    "plot_test_game(env, player1, None, random_crosses=False, random_naughts=True, verbose=True, fontq=20, fontx=20)"
   ]
  },
  {
   "cell_type": "markdown",
   "metadata": {},
   "source": [
    "### 3x3 нолики"
   ]
  },
  {
   "cell_type": "code",
   "execution_count": 19,
   "metadata": {},
   "outputs": [
    {
     "name": "stderr",
     "output_type": "stream",
     "text": [
      "100%|████████████████████████████████████████████████████████████████████████| 200000/200000 [01:19<00:00, 2527.56it/s]\n"
     ]
    }
   ],
   "source": [
    "player1 = RandomPlayer()\n",
    "player2 = QPlayer(alpha=0.5, epsilon=0.0, gamma=0.7)\n",
    "env = TicTacToe(n_rows=3, n_cols=3, n_win=3)\n",
    "avg_reward_history1, avg_reward_history2 = learn(200000, player1, player2, env) "
   ]
  },
  {
   "cell_type": "code",
   "execution_count": 20,
   "metadata": {},
   "outputs": [
    {
     "data": {
      "text/plain": [
       "[<matplotlib.lines.Line2D at 0x17f4ff88da0>]"
      ]
     },
     "execution_count": 20,
     "metadata": {},
     "output_type": "execute_result"
    },
    {
     "data": {
      "image/png": "[encoded data removed]",
      "text/plain": [
       "<Figure size 720x432 with 1 Axes>"
      ]
     },
     "metadata": {
      "needs_background": "light"
     },
     "output_type": "display_data"
    }
   ],
   "source": [
    "fig, ax = plt.subplots(1, 1, figsize=(10, 6))\n",
    "ax.plot(avg_reward_history1[10:])\n",
    "ax.plot(avg_reward_history2[10:])"
   ]
  },
  {
   "cell_type": "markdown",
   "metadata": {},
   "source": [
    "### Double Q 3x3 крестики "
   ]
  },
  {
   "cell_type": "code",
   "execution_count": 92,
   "metadata": {},
   "outputs": [
    {
     "name": "stderr",
     "output_type": "stream",
     "text": [
      "100%|████████████████████████████████████████████████████████████████████████| 200000/200000 [01:44<00:00, 1919.45it/s]\n"
     ]
    }
   ],
   "source": [
    "player1 = DQPlayer(alpha=0.5, epsilon=0.1, gamma=0.9)\n",
    "player2 = RandomPlayer()\n",
    "env = TicTacToe(n_rows=3, n_cols=3, n_win=3)\n",
    "avg_reward_history1, avg_reward_history2 = learn(200000, player1, player2, env) "
   ]
  },
  {
   "cell_type": "code",
   "execution_count": 93,
   "metadata": {},
   "outputs": [
    {
     "data": {
      "text/plain": [
       "[<matplotlib.lines.Line2D at 0x24a60145630>]"
      ]
     },
     "execution_count": 93,
     "metadata": {},
     "output_type": "execute_result"
    },
    {
     "data": {
      "image/png": "[encoded data removed]",
      "text/plain": [
       "<Figure size 720x432 with 1 Axes>"
      ]
     },
     "metadata": {
      "needs_background": "light"
     },
     "output_type": "display_data"
    }
   ],
   "source": [
    "fig, ax = plt.subplots(1, 1, figsize=(10, 6))\n",
    "ax.plot(avg_reward_history1[10:])\n",
    "ax.plot(avg_reward_history2[10:])"
   ]
  },
  {
   "cell_type": "code",
   "execution_count": 94,
   "metadata": {},
   "outputs": [
    {
     "data": {
      "image/png": "[encoded data removed]",
      "text/plain": [
       "<Figure size 288x288 with 2 Axes>"
      ]
     },
     "metadata": {
      "needs_background": "light"
     },
     "output_type": "display_data"
    },
    {
     "name": "stdout",
     "output_type": "stream",
     "text": [
      "0 [0 0] 18.61942691923395\n",
      "1 [0 1] 15.755866398522102\n",
      "2 [0 2] 13.63446878845679\n",
      "3 [1 0] 14.317422239832371\n",
      "4 [1 1] 15.602753510483849\n",
      "5 [1 2] 17.02018338094193\n",
      "6 [2 0] 14.081772855211806\n",
      "7 [2 1] 17.256656246063333\n",
      "8 [2 2] 13.291851059312233\n",
      "0\n"
     ]
    },
    {
     "data": {
      "image/png": "[encoded data removed]",
      "text/plain": [
       "<Figure size 288x288 with 2 Axes>"
      ]
     },
     "metadata": {
      "needs_background": "light"
     },
     "output_type": "display_data"
    },
    {
     "name": "stdout",
     "output_type": "stream",
     "text": [
      "5\n"
     ]
    },
    {
     "data": {
      "image/png": "[encoded data removed]",
      "text/plain": [
       "<Figure size 288x288 with 2 Axes>"
      ]
     },
     "metadata": {
      "needs_background": "light"
     },
     "output_type": "display_data"
    },
    {
     "name": "stdout",
     "output_type": "stream",
     "text": [
      "0 [0 1] 6.0877310993164615\n",
      "1 [0 2] 6.650851455017875\n",
      "2 [1 0] 7.0033479529034235\n",
      "3 [1 1] 7.101409764399175\n",
      "4 [1 2] 8.29884964681867\n",
      "5 [2 1] 10.138784799078387\n",
      "6 [2 2] 6.871253173295476\n",
      "5\n"
     ]
    },
    {
     "data": {
      "image/png": "[encoded data removed]",
      "text/plain": [
       "<Figure size 288x288 with 2 Axes>"
      ]
     },
     "metadata": {
      "needs_background": "light"
     },
     "output_type": "display_data"
    },
    {
     "name": "stdout",
     "output_type": "stream",
     "text": [
      "5\n"
     ]
    },
    {
     "data": {
      "image/png": "[encoded data removed]",
      "text/plain": [
       "<Figure size 288x288 with 2 Axes>"
      ]
     },
     "metadata": {
      "needs_background": "light"
     },
     "output_type": "display_data"
    },
    {
     "name": "stdout",
     "output_type": "stream",
     "text": [
      "0 [0 1] 3.5417427339308736\n",
      "1 [0 2] 1.8351790375769848\n",
      "2 [1 0] 2.6337763169470323\n",
      "3 [1 1] 2.275050494400287\n",
      "4 [1 2] 3.980539796899417\n",
      "4\n"
     ]
    },
    {
     "data": {
      "image/png": "[encoded data removed]",
      "text/plain": [
       "<Figure size 288x288 with 2 Axes>"
      ]
     },
     "metadata": {
      "needs_background": "light"
     },
     "output_type": "display_data"
    },
    {
     "name": "stdout",
     "output_type": "stream",
     "text": [
      "3\n"
     ]
    },
    {
     "data": {
      "image/png": "[encoded data removed]",
      "text/plain": [
       "<Figure size 288x288 with 2 Axes>"
      ]
     },
     "metadata": {
      "needs_background": "light"
     },
     "output_type": "display_data"
    },
    {
     "name": "stdout",
     "output_type": "stream",
     "text": [
      "0 [0 1] 1.152483711037375\n",
      "1 [0 2] 1.6760451780209606\n",
      "2 [1 0] -0.7935673565992531\n",
      "1\n"
     ]
    },
    {
     "data": {
      "image/png": "[encoded data removed]",
      "text/plain": [
       "<Figure size 288x288 with 2 Axes>"
      ]
     },
     "metadata": {
      "needs_background": "light"
     },
     "output_type": "display_data"
    },
    {
     "name": "stdout",
     "output_type": "stream",
     "text": [
      "1\n"
     ]
    },
    {
     "data": {
      "image/png": "[encoded data removed]",
      "text/plain": [
       "<Figure size 288x288 with 2 Axes>"
      ]
     },
     "metadata": {
      "needs_background": "light"
     },
     "output_type": "display_data"
    },
    {
     "name": "stdout",
     "output_type": "stream",
     "text": [
      "0 [0 1] 2.0\n",
      "0\n",
      "Крестики выиграли!\n"
     ]
    },
    {
     "data": {
      "image/png": "[encoded data removed]",
      "text/plain": [
       "<Figure size 288x288 with 2 Axes>"
      ]
     },
     "metadata": {
      "needs_background": "light"
     },
     "output_type": "display_data"
    }
   ],
   "source": [
    "plot_test_game(env, player1, None, random_crosses=False, random_naughts=True, verbose=True, fontq=20, fontx=20)"
   ]
  },
  {
   "cell_type": "markdown",
   "metadata": {},
   "source": [
    "### 4x4 крестики"
   ]
  },
  {
   "cell_type": "code",
   "execution_count": 21,
   "metadata": {},
   "outputs": [
    {
     "name": "stderr",
     "output_type": "stream",
     "text": [
      "100%|███████████████████████████████████████████████████████████████████| 20000000/20000000 [5:48:59<00:00, 955.13it/s]\n"
     ]
    }
   ],
   "source": [
    "total_episodes = 20000000\n",
    "player1 = QPlayer(alpha=0.5, epsilon=0.0, gamma=0.7)\n",
    "player2 = RandomPlayer()\n",
    "env = TicTacToe(n_rows=4, n_cols=4, n_win=4)\n",
    "avg_reward_history1, avg_reward_history2 = learn(20000, player1, player2, env) "
   ]
  },
  {
   "cell_type": "code",
   "execution_count": 22,
   "metadata": {},
   "outputs": [
    {
     "data": {
      "text/plain": [
       "[<matplotlib.lines.Line2D at 0x24a53bd7b00>]"
      ]
     },
     "execution_count": 22,
     "metadata": {},
     "output_type": "execute_result"
    },
    {
     "data": {
      "image/png": "[encoded data removed]",
      "text/plain": [
       "<Figure size 720x432 with 1 Axes>"
      ]
     },
     "metadata": {
      "needs_background": "light"
     },
     "output_type": "display_data"
    }
   ],
   "source": [
    "fig, ax = plt.subplots(1, 1, figsize=(10, 6))\n",
    "ax.plot(avg_reward_history1[10:])\n",
    "ax.plot(avg_reward_history2[10:])"
   ]
  },
  {
   "cell_type": "markdown",
   "metadata": {},
   "source": [
    "# Часть 2"
   ]
  },
  {
   "cell_type": "code",
   "execution_count": 11,
   "metadata": {},
   "outputs": [],
   "source": [
    "class ReplayMemory():\n",
    "    def __init__(self, capacity):\n",
    "        self.capacity = capacity\n",
    "        self.memory = []\n",
    "        self.position = 0\n",
    "\n",
    "    def store(self, exptuple):\n",
    "        if len(self.memory) < self.capacity:\n",
    "            self.memory.append(None)\n",
    "        self.memory[self.position] = exptuple\n",
    "        self.position = (self.position + 1) % self.capacity\n",
    "\n",
    "    def sample(self, batch_size):\n",
    "        return random.sample(self.memory, batch_size)\n",
    "\n",
    "    def __len__(self):\n",
    "        return len(self.memory)"
   ]
  },
  {
   "cell_type": "code",
   "execution_count": 12,
   "metadata": {},
   "outputs": [],
   "source": [
    "class FCNetwork(nn.Module):\n",
    "    def __init__(self, state_size):\n",
    "        super(FCNetwork, self).__init__()\n",
    "        self.l1 = nn.Linear(state_size, 64)\n",
    "        self.l2 = nn.Linear(64, 64)\n",
    "        self.l3 = nn.Linear(64, 64)\n",
    "        self.l4 = nn.Linear(64, 64)\n",
    "        self.l5 = nn.Linear(64, state_size)\n",
    "\n",
    "    def forward(self, x):\n",
    "        x = F.relu(self.l1(x))\n",
    "        x = F.relu(self.l2(x))\n",
    "        x = F.relu(self.l3(x))\n",
    "        x = F.relu(self.l4(x))\n",
    "        x = self.l5(x)\n",
    "        return x\n",
    "\n",
    "\n",
    "class ConvNetwork(nn.Module):\n",
    "    def __init__(self, state_size):\n",
    "        super(ConvNetwork, self).__init__()\n",
    "        self.size = int(np.sqrt(state_size))\n",
    "        self.conv1 = nn.Conv2d(in_channels=1, out_channels=32, kernel_size=3, stride=1, padding=2)\n",
    "        self.conv2 = nn.Conv2d(in_channels=32, out_channels=64, kernel_size=3, stride=1, padding=2)\n",
    "        self.fl = nn.Flatten()\n",
    "        self.l1 = nn.Linear(64 * state_size, 256)\n",
    "        self.l2 = nn.Linear(256, state_size)\n",
    "\n",
    "    def forward(self, x):\n",
    "        x = x.view(-1, 1, self.size, self.size)\n",
    "        x = F.relu(self.conv1(x))\n",
    "        x = F.relu(self.conv2(x))\n",
    "        x = F.max_pool2d(x, kernel_size=5, stride=1)\n",
    "        x = self.fl(x)\n",
    "        x = F.relu(self.l1(x))\n",
    "        x = self.l2(x)\n",
    "        return x\n"
   ]
  },
  {
   "cell_type": "code",
   "execution_count": 13,
   "metadata": {},
   "outputs": [],
   "source": [
    "class PlayerDQN:\n",
    "    def __init__(self, state_size, net, env, memory, is_first=True, learning_rate=0.01, gamma=0.8, batch_size=64, eps_init=0.9, eps_final=0.01, eps_decay=200):\n",
    "        self.env = env\n",
    "        self.model1 = net(state_size)\n",
    "        self.model2 = net(state_size)\n",
    "        self.memory = memory\n",
    "        self.n_actions = state_size\n",
    "        self.steps_done = 0\n",
    "        self.episode_durations = []\n",
    "        self.learning_rate = learning_rate\n",
    "        self.gamma = gamma\n",
    "        self.batch_size = batch_size\n",
    "        self.is_first = is_first\n",
    "        self.eps_init = eps_init\n",
    "        self.eps_final = eps_final\n",
    "        self.eps_decay = eps_decay\n",
    "        self.num_step = 0\n",
    "        self.optimizer = optim.Adam(self.model1.parameters(), self.learning_rate)\n",
    "\n",
    "    def select_greedy_action(self, state):\n",
    "        return self.model1(state).data.max(1)[1].view(1, 1)\n",
    "\n",
    "    def evaluate(self, total_episodes, render=False):\n",
    "        rewards = []\n",
    "        tbar = tqdm.tqdm(range(total_episodes))\n",
    "        for n in tbar:\n",
    "            reward = self.eval_episode(render)\n",
    "            rewards.append(reward)\n",
    "            win = sum([1 for x in rewards if x ==1])\n",
    "            lost = sum([1 for x in rewards if x == -1])\n",
    "            wrong = sum([1 for x in rewards if x == -10])\n",
    "            tbar.set_description(\"win {} lost {} wrong {}\".format(win, lost, wrong))\n",
    "        return rewards, win, lost, wrong\n",
    "\n",
    "    \n",
    "    def eval_episode(self, render=False):\n",
    "        self.env.reset()\n",
    "        state = self.env.getBoardAsArray()\n",
    "\n",
    "        self.model1.eval()\n",
    "\n",
    "        if not self.is_first:\n",
    "            _, reward, _, _ = self.env.step(random.choice(self.env.getEmptySpaces()))\n",
    "            state = self.env.getBoardAsArray()\n",
    "        done = False\n",
    "        while not done:\n",
    "            if render:\n",
    "                self.env.render()\n",
    "\n",
    "            state_tensor = torch.tensor([state], dtype=torch.float32)\n",
    "            actions = self.model1(state_tensor).data\n",
    "            action = actions.max(1)[1].view(1, 1)            \n",
    "\n",
    "            _, reward, done, _ = self.env.step(self.env.action_from_int(action.numpy()[0][0]))\n",
    "            next_state = self.env.getBoardAsArray()\n",
    "\n",
    "            if not done:\n",
    "                _, reward, done, _ = self.env.step(random.choice(self.env.getEmptySpaces()))\n",
    "                next_state = self.env.getBoardAsArray()\n",
    "                if render:\n",
    "                    self.env.render()\n",
    "\n",
    "            if not self.is_first and abs(reward) == 1:\n",
    "                reward = -reward\n",
    "            state = next_state\n",
    "        \n",
    "        return reward\n",
    "    \n",
    "    def train(self, total_episodes, greedy=False, render=False):\n",
    "        avg_reward_history = []\n",
    "        rewards_sum = 0\n",
    "        rewards = []\n",
    "        losses = []\n",
    "        tbar = tqdm.tqdm(range(total_episodes))\n",
    "        for n in tbar:\n",
    "            reward = self.run_episode(losses, greedy, render)\n",
    "            rewards_sum += reward\n",
    "            avg_reward_history.append(rewards_sum / (n + 1))\n",
    "            rewards.append(reward)\n",
    "            win = sum([1 for x in rewards[-100:] if x ==1])\n",
    "            lost = sum([1 for x in rewards[-100:] if x == -1])\n",
    "            wrong = sum([1 for x in rewards[-100:] if x == -10])\n",
    "            tbar.set_description(\"Avg reward {} win {} lost {} wrong {}\".format(sum(rewards[-100:])/100, win, lost, wrong))\n",
    "        return avg_reward_history\n",
    "\n",
    "    def run_episode(self, losses, greedy=False, render=False):\n",
    "        self.env.reset()\n",
    "        state = self.env.getBoardAsArray()\n",
    "\n",
    "        if self.num_step % 50 == 0:\n",
    "            self.model2.load_state_dict(self.model1.state_dict())\n",
    "        self.model1.eval()\n",
    "        self.model2.eval()\n",
    "\n",
    "        if not self.is_first:\n",
    "            _, reward, _, _ = self.env.step(random.choice(self.env.getEmptySpaces()))\n",
    "            state = self.env.getBoardAsArray()\n",
    "        done = False\n",
    "        while not done:\n",
    "            if render:\n",
    "                self.env.render()\n",
    "\n",
    "            self.num_step += 1\n",
    "            state_tensor = torch.tensor([state], dtype=torch.float32)\n",
    "            if greedy:\n",
    "                actions = self.model1(state_tensor).data\n",
    "                action = actions.max(1)[1].view(1, 1)\n",
    "            else:\n",
    "                sample = random.random()\n",
    "                eps_threshold = self.eps_final + (self.eps_init - self.eps_final) * math.exp(\n",
    "                    -1. * self.num_step / self.eps_decay)\n",
    "                if sample > eps_threshold:\n",
    "                    actions = self.model1(state_tensor).data\n",
    "                    action = actions.max(1)[1].view(1, 1)\n",
    "                else:\n",
    "                    actions = self.model1(state_tensor).data\n",
    "                    action = torch.tensor([[random.randrange(self.n_actions)]], dtype=torch.int64)\n",
    "\n",
    "            _, reward, done, _ = self.env.step(self.env.action_from_int(action.numpy()[0][0]))\n",
    "            next_state = self.env.getBoardAsArray()\n",
    "\n",
    "            if not done:\n",
    "                _, reward, done, _ = self.env.step(random.choice(self.env.getEmptySpaces()))\n",
    "                next_state = self.env.getBoardAsArray()\n",
    "\n",
    "            if not self.is_first and abs(reward) == 1:\n",
    "                reward = -reward\n",
    "\n",
    "            next_state_tensor = torch.tensor([next_state], dtype=torch.float32)\n",
    "\n",
    "            if done:\n",
    "                expected = reward\n",
    "            else:\n",
    "                next_actions1 = self.model1(next_state_tensor).data\n",
    "                next_actions2 = self.model2(next_state_tensor).data\n",
    "                next_action = next_actions1.data.max(1)[1].numpy()[0]\n",
    "                expected = reward + self.gamma * next_actions2[0][next_action].numpy()\n",
    "\n",
    "            transition = (state_tensor, action, torch.tensor([expected], dtype=torch.float32), abs(actions[0][int(action[0][0])].numpy() - expected))\n",
    "            self.memory.store(transition)\n",
    "\n",
    "            state = next_state\n",
    "\n",
    "        if len(self.memory) > self.batch_size:\n",
    "            for _ in range(int(len(self.memory)/self.batch_size)):\n",
    "                loss = self.learn()\n",
    "                losses.append(loss)\n",
    "            self.model1.eval()\n",
    "\n",
    "        return reward\n",
    "\n",
    "    def learn(self):\n",
    "        self.model1.train()\n",
    "        transitions = self.memory.sample(self.batch_size)\n",
    "        batch_state, batch_action, batch_expected, _ = zip(*transitions)\n",
    "\n",
    "        batch_state = Variable(torch.cat(batch_state))\n",
    "        batch_action = Variable(torch.cat(batch_action))\n",
    "        batch_expected = Variable(torch.cat(batch_expected))\n",
    "\n",
    "        Q = self.model1(batch_state).gather(1, batch_action).reshape([self.batch_size])\n",
    "\n",
    "        loss = F.smooth_l1_loss(Q, batch_expected)\n",
    "        # loss = F.mse_loss(Q, batch_expected)\n",
    "\n",
    "        self.optimizer.zero_grad()\n",
    "        loss.backward()\n",
    "        self.optimizer.step()\n",
    "\n",
    "        return loss.data.numpy()\n",
    "\n",
    "    def save(self, filename):\n",
    "        torch.save(self.model1, filename)\n",
    "        \n",
    "    def load(self, filename):\n",
    "        self.model1 = torch.load(filename)\n",
    "        self.model2.load_state_dict(self.model1.state_dict())"
   ]
  },
  {
   "cell_type": "markdown",
   "metadata": {},
   "source": [
    "### DQN 3x3 крестики"
   ]
  },
  {
   "cell_type": "code",
   "execution_count": 19,
   "metadata": {},
   "outputs": [
    {
     "name": "stderr",
     "output_type": "stream",
     "text": [
      "Avg reward 0.86 win 93 lost 7 wrong 0: 100%|███████████████████████████████████████| 2000/2000 [32:45<00:00,  1.02it/s]\n"
     ]
    }
   ],
   "source": [
    "env = TicTacToe(n_rows=3, n_cols=3, n_win=3)\n",
    "memory = ReplayMemory(10000)\n",
    "player = PlayerDQN(9, ConvNetwork, env, memory, learning_rate=0.001, gamma=0.8, batch_size=128, eps_init=0.9, eps_final=0.0, eps_decay=400)\n",
    "player.train(2000)\n",
    "player.save('conv3_model_1000')"
   ]
  },
  {
   "cell_type": "code",
   "execution_count": 20,
   "metadata": {},
   "outputs": [],
   "source": [
    "player = PlayerDQN(9, ConvNetwork, env, memory)\n",
    "player.load('conv3_model_1000')"
   ]
  },
  {
   "cell_type": "code",
   "execution_count": 21,
   "metadata": {},
   "outputs": [
    {
     "name": "stderr",
     "output_type": "stream",
     "text": [
      "win 951 lost 46 wrong 0: 100%|████████████████████████████████████████████████████| 1000/1000 [00:09<00:00, 100.54it/s]\n"
     ]
    }
   ],
   "source": [
    "result = player.evaluate(1000)"
   ]
  },
  {
   "cell_type": "code",
   "execution_count": null,
   "metadata": {},
   "outputs": [],
   "source": []
  },
  {
   "cell_type": "code",
   "execution_count": 22,
   "metadata": {},
   "outputs": [
    {
     "name": "stderr",
     "output_type": "stream",
     "text": [
      "Avg reward 0.17 win 59 lost 32 wrong 1: 100%|██████████████████████████████████████| 2000/2000 [26:33<00:00,  1.26it/s]\n"
     ]
    }
   ],
   "source": [
    "memory = ReplayMemory(10000)\n",
    "player0 = PlayerDQN(9, ConvNetwork, env, memory, is_first=False, learning_rate=0.001, gamma=0.8, batch_size=128, eps_init=0.9, eps_final=0.0, eps_decay=400)\n",
    "player0.train(2000)\n",
    "player0.save('conv3_model_0_2000')"
   ]
  },
  {
   "cell_type": "code",
   "execution_count": 25,
   "metadata": {},
   "outputs": [],
   "source": [
    "player00 = PlayerDQN(9, ConvNetwork, env, memory)\n",
    "player00.load('conv3_model_0_2000')"
   ]
  },
  {
   "cell_type": "code",
   "execution_count": 26,
   "metadata": {},
   "outputs": [
    {
     "name": "stderr",
     "output_type": "stream",
     "text": [
      "win 437 lost 179 wrong 319: 100%|██████████████████████████████████████████████████| 1000/1000 [00:13<00:00, 75.18it/s]\n"
     ]
    }
   ],
   "source": [
    "result = player00.evaluate(1000)"
   ]
  },
  {
   "cell_type": "markdown",
   "metadata": {},
   "source": [
    "# Часть 3"
   ]
  },
  {
   "cell_type": "code",
   "execution_count": 12,
   "metadata": {},
   "outputs": [],
   "source": [
    "class MCTSPlayer:\n",
    "\n",
    "    def __init__(self, n_rows=N_ROWS, n_cols=N_COLS, n_win=N_WIN, n_rollouts=50, player=1, c=1):\n",
    "        self.n_rows = n_rows\n",
    "        self.n_cols = n_cols\n",
    "        self.n_win = n_win\n",
    "        self.n_rollouts = n_rollouts\n",
    "        self.player = player\n",
    "        self.state_nodes = {}\n",
    "        self.id_nodes = {}\n",
    "        self.ids = 0\n",
    "        self.c = c\n",
    "\n",
    "    def get_action(self, state, actions):\n",
    "        if state in self.state_nodes:\n",
    "            node = self.state_nodes[state]\n",
    "        else:\n",
    "            node = {'id': self.ids,\n",
    "                    'a': None,\n",
    "                    'w': 0,\n",
    "                    'n': 0,\n",
    "                    'pn': None,\n",
    "                    's': state,\n",
    "                    'c': [],\n",
    "                    'p': self.player}\n",
    "            self.ids += 1\n",
    "            self.state_nodes[state] = node\n",
    "            self.id_nodes[node['id']] = node\n",
    "        self.mcts(node)\n",
    "        best_node = node['c'][0]\n",
    "        for cn in node['c']:\n",
    "            if cn['w']/(cn['n'] + 1e-4) < best_node['w']/(best_node['n'] + 1e-4):\n",
    "                best_node = cn\n",
    "        for i, a in enumerate(actions):\n",
    "            if a[0] == best_node['a'][0] and a[1] == best_node['a'][1] :\n",
    "                return i\n",
    "\n",
    "    def mcts(self, r_node):\n",
    "        for i in range(self.n_rollouts):\n",
    "            leaf = self.selection(r_node)\n",
    "            cnode = self.expansion(leaf)\n",
    "            winner = self.simulation(cnode)\n",
    "            self.backpropagation(cnode, winner)\n",
    "\n",
    "    def backpropagation(self, node, winner):\n",
    "        while node is not None:\n",
    "            node['n'] += 1\n",
    "            if winner == node['p']:\n",
    "                node['w'] += 1\n",
    "            node = node['pn']\n",
    "\n",
    "    def simulation(self, node):\n",
    "        board = self.state_to_board(node['s'])\n",
    "        cur_turn = node['p']\n",
    "        while True:\n",
    "            winner = self.is_terminal_state(board, -cur_turn)\n",
    "            if winner is not None:\n",
    "                return winner\n",
    "            a = random.choice(self.get_empty_spaces(board))\n",
    "            board[a[0]][a[1]] = cur_turn\n",
    "            cur_turn = -cur_turn\n",
    "\n",
    "    def selection(self, node):\n",
    "        while len(node['c']) > 0:\n",
    "            max_v = node['c'][0]['w']/(node['c'][0]['n'] + 1e-4) + self.c * np.sqrt(np.log(node['n'])/(node['c'][0]['n'] + 1e-4))\n",
    "            max_node = node['c'][0]\n",
    "            for cn in node['c']:\n",
    "                v = cn['w'] / (cn['n'] + 1e-4) + self.c * np.sqrt(np.log(node['n']) / (cn['n'] + 1e-4))\n",
    "                if max_v < v:\n",
    "                    max_node = cn\n",
    "                    max_v = v\n",
    "            node = max_node\n",
    "        return node\n",
    "\n",
    "    def expansion(self, node):\n",
    "        winner = self.is_terminal_node(node)\n",
    "        if winner is None :\n",
    "            for a in self.get_empty_spaces(self.state_to_board(node['s'])):\n",
    "                nstate = self.apply_action(node['s'], a, node['p'])\n",
    "                cnode = {'id': self.ids,\n",
    "                         'a': a,\n",
    "                         'w': 0,\n",
    "                         'n': 0,\n",
    "                         'pn': node,\n",
    "                         's': nstate,\n",
    "                         'c': [],\n",
    "                         'p': -node['p']}\n",
    "                self.ids += 1\n",
    "                self.state_nodes[nstate] = cnode\n",
    "                self.id_nodes[node['id']] = cnode\n",
    "                node['c'].append(cnode)\n",
    "            node = random.choice(node['c'])\n",
    "        return node\n",
    "\n",
    "    def apply_action(self, state, action, player):\n",
    "        board = self.state_to_board(state)\n",
    "        board[action[0]][action[1]] = player\n",
    "        return ''.join(['%s' % (x + 1) for x in board.reshape(self.n_rows * self.n_cols)])\n",
    "\n",
    "    def state_to_board(self, state):\n",
    "        return np.array([int(x) - 1 for x in state]).reshape([self.n_rows, self.n_cols])\n",
    "\n",
    "    def is_terminal_node(self, node):\n",
    "        return self.is_terminal_state(self.state_to_board(node['s']), -node['p'])\n",
    "\n",
    "    def is_terminal_state(self, board, cur_turn):\n",
    "        cur_marks, cur_p = np.where(board == cur_turn), cur_turn\n",
    "        for i, j in zip(cur_marks[0], cur_marks[1]):\n",
    "            win = False\n",
    "            if i <= self.n_rows - self.n_win:\n",
    "                if np.all(board[i:i + self.n_win, j] == cur_p):\n",
    "                    win = True\n",
    "            if not win:\n",
    "                if j <= self.n_cols - self.n_win:\n",
    "                    if np.all(board[i, j:j + self.n_win] == cur_p):\n",
    "                        win = True\n",
    "            if not win:\n",
    "                if i <= self.n_rows - self.n_win and j <= self.n_cols - self.n_win:\n",
    "                    if np.all(np.array([board[i + k, j + k] == cur_p for k in range(self.n_win)])):\n",
    "                        win = True\n",
    "            if not win:\n",
    "                if i <= self.n_rows - self.n_win and j >= self.n_win - 1:\n",
    "                    if np.all(np.array([board[i + k, j - k] == cur_p for k in range(self.n_win)])):\n",
    "                        win = True\n",
    "            if win:\n",
    "                return cur_turn\n",
    "\n",
    "        if len(self.get_empty_spaces(board)) == 0:\n",
    "            return 0\n",
    "\n",
    "        return None\n",
    "\n",
    "    def get_empty_spaces(self, board):\n",
    "        res = np.where(board == 0)\n",
    "        return np.array([(i, j) for i, j in zip(res[0], res[1])])\n",
    "\n",
    "\n",
    "def run_episode(env, player1, player2):\n",
    "    done = False\n",
    "    env.reset()\n",
    "    while not done:\n",
    "        s, actions = env.getHash(), env.getEmptySpaces()\n",
    "        if env.curTurn == 1:\n",
    "            action_idx = player1.get_action(s, actions)\n",
    "        else:\n",
    "            action_idx = player2.get_action(s, actions)\n",
    "        _, reward, done, _ = env.step(actions[action_idx])\n",
    "    return reward\n"
   ]
  },
  {
   "cell_type": "code",
   "execution_count": 14,
   "metadata": {},
   "outputs": [
    {
     "name": "stdout",
     "output_type": "stream",
     "text": [
      "Win 80\n",
      "Loss 3\n",
      "Draw 17\n"
     ]
    }
   ],
   "source": [
    "env = TicTacToe(n_rows=3, n_cols=3, n_win=3)\n",
    "rewards = []\n",
    "for i in range(100):\n",
    "    player1 = MCTSPlayer()\n",
    "    player2 = RandomPlayer()\n",
    "    rewards.append(run_episode(env, player1, player2))\n",
    "print(\"Win\", sum([1 for x in rewards if x == 1]))\n",
    "print(\"Loss\", sum([1 for x in rewards if x == -1]))\n",
    "print(\"Draw\", sum([1 for x in rewards if x == 0]))"
   ]
  },
  {
   "cell_type": "code",
   "execution_count": null,
   "metadata": {},
   "outputs": [],
   "source": []
  }
 ],
 "metadata": {
  "kernelspec": {
   "display_name": "Python 3",
   "language": "python",
   "name": "python3"
  },
  "language_info": {
   "codemirror_mode": {
    "name": "ipython",
    "version": 3
   },
   "file_extension": ".py",
   "mimetype": "text/x-python",
   "name": "python",
   "nbconvert_exporter": "python",
   "pygments_lexer": "ipython3",
   "version": "3.7.3"
  }
 },
 "nbformat": 4,
 "nbformat_minor": 2
}
